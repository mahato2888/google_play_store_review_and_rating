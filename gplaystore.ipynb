{
 "cells": [
  {
   "cell_type": "code",
   "execution_count": 1,
   "id": "c72b3ae1",
   "metadata": {},
   "outputs": [],
   "source": [
    "import numpy as np # linear algebra\n",
    "import pandas as pd # data processing, CSV file I/O (e.g. pd.read_csv)\n",
    "import sklearn\n",
    "import re\n",
    "%matplotlib inline\n",
    "import matplotlib as mpl\n",
    "import matplotlib.pyplot as plt\n",
    "import seaborn as sns # used for plot interactive graph."
   ]
  },
  {
   "cell_type": "code",
   "execution_count": 2,
   "id": "98f13072",
   "metadata": {},
   "outputs": [],
   "source": [
    "from sklearn.preprocessing import OneHotEncoder\n",
    "from sklearn.feature_extraction.text import CountVectorizer\n",
    "from sklearn.linear_model import LinearRegression\n",
    "from sklearn.linear_model import LogisticRegression\n",
    "from sklearn.compose import make_column_transformer\n",
    "from sklearn.pipeline import make_pipeline\n",
    "from sklearn.preprocessing import StandardScaler\n",
    "from sklearn.preprocessing import OrdinalEncoder"
   ]
  },
  {
   "cell_type": "code",
   "execution_count": 3,
   "id": "66d5b76b",
   "metadata": {},
   "outputs": [],
   "source": [
    "import warnings\n",
    "warnings.filterwarnings('ignore')\n",
    "from pylab import rcParams\n",
    "# figure size in inches\n"
   ]
  },
  {
   "cell_type": "code",
   "execution_count": 4,
   "id": "2b0a23b5",
   "metadata": {},
   "outputs": [],
   "source": [
    "%matplotlib inline"
   ]
  },
  {
   "cell_type": "code",
   "execution_count": 5,
   "id": "ecabf9e2",
   "metadata": {},
   "outputs": [],
   "source": [
    "data1 = pd.read_csv('googleplaystore.csv')\n",
    "data2 = pd.read_csv('googleplaystore_user_reviews.csv')"
   ]
  },
  {
   "cell_type": "markdown",
   "id": "f99fbb57",
   "metadata": {},
   "source": [
    "# Explore the datasets"
   ]
  },
  {
   "cell_type": "code",
   "execution_count": 6,
   "id": "585254cc",
   "metadata": {},
   "outputs": [
    {
     "data": {
      "text/plain": [
       "Index(['App', 'Translated_Review', 'Sentiment', 'Sentiment_Polarity',\n",
       "       'Sentiment_Subjectivity'],\n",
       "      dtype='object')"
      ]
     },
     "execution_count": 6,
     "metadata": {},
     "output_type": "execute_result"
    }
   ],
   "source": [
    "# reading the column names \n",
    "data2.columns"
   ]
  },
  {
   "cell_type": "code",
   "execution_count": 7,
   "id": "d03ed8b2",
   "metadata": {},
   "outputs": [
    {
     "data": {
      "text/plain": [
       "Index(['App', 'Category', 'Rating', 'Reviews', 'Size', 'Installs', 'Type',\n",
       "       'Price', 'Content Rating', 'Genres', 'Last Updated', 'Current Ver',\n",
       "       'Android Ver'],\n",
       "      dtype='object')"
      ]
     },
     "execution_count": 7,
     "metadata": {},
     "output_type": "execute_result"
    }
   ],
   "source": [
    "# reading colmn names\n",
    "data1.columns"
   ]
  },
  {
   "cell_type": "code",
   "execution_count": 8,
   "id": "8784665a",
   "metadata": {},
   "outputs": [
    {
     "name": "stdout",
     "output_type": "stream",
     "text": [
      "<class 'pandas.core.frame.DataFrame'>\n",
      "RangeIndex: 10841 entries, 0 to 10840\n",
      "Data columns (total 13 columns):\n",
      " #   Column          Non-Null Count  Dtype  \n",
      "---  ------          --------------  -----  \n",
      " 0   App             10841 non-null  object \n",
      " 1   Category        10841 non-null  object \n",
      " 2   Rating          9367 non-null   float64\n",
      " 3   Reviews         10841 non-null  object \n",
      " 4   Size            10841 non-null  object \n",
      " 5   Installs        10841 non-null  object \n",
      " 6   Type            10840 non-null  object \n",
      " 7   Price           10841 non-null  object \n",
      " 8   Content Rating  10840 non-null  object \n",
      " 9   Genres          10841 non-null  object \n",
      " 10  Last Updated    10841 non-null  object \n",
      " 11  Current Ver     10833 non-null  object \n",
      " 12  Android Ver     10838 non-null  object \n",
      "dtypes: float64(1), object(12)\n",
      "memory usage: 1.1+ MB\n"
     ]
    }
   ],
   "source": [
    "data1.info()"
   ]
  },
  {
   "cell_type": "markdown",
   "id": "1f84774a",
   "metadata": {},
   "source": [
    "#  from the above table we can see that except 'Rating' column all are in 'Object' format. Changing some columns to numeric sucha as size,install,price& reviews."
   ]
  },
  {
   "cell_type": "code",
   "execution_count": 9,
   "id": "ce4494fa",
   "metadata": {},
   "outputs": [
    {
     "data": {
      "text/plain": [
       "ROBLOX                                                9\n",
       "CBS Sports App - Scores, News, Stats & Watch Live     8\n",
       "ESPN                                                  7\n",
       "Duolingo: Learn Languages Free                        7\n",
       "Candy Crush Saga                                      7\n",
       "                                                     ..\n",
       "Meet U - Get Friends for Snapchat, Kik & Instagram    1\n",
       "U-Report                                              1\n",
       "U of I Community Credit Union                         1\n",
       "Waiting For U Launcher Theme                          1\n",
       "iHoroscope - 2018 Daily Horoscope & Astrology         1\n",
       "Name: App, Length: 9660, dtype: int64"
      ]
     },
     "execution_count": 9,
     "metadata": {},
     "output_type": "execute_result"
    }
   ],
   "source": [
    "data1['App'].value_counts(dropna=False)"
   ]
  },
  {
   "cell_type": "code",
   "execution_count": 10,
   "id": "716f5de3",
   "metadata": {},
   "outputs": [
    {
     "data": {
      "text/plain": [
       "1181"
      ]
     },
     "execution_count": 10,
     "metadata": {},
     "output_type": "execute_result"
    }
   ],
   "source": [
    "#checking for duplicates by app name\n",
    "data1[data1.duplicated('App')].shape[0]"
   ]
  },
  {
   "cell_type": "markdown",
   "id": "c0bfce45",
   "metadata": {},
   "source": [
    "# shorting duplicates in different variable..."
   ]
  },
  {
   "cell_type": "code",
   "execution_count": 11,
   "id": "1f28beb7",
   "metadata": {},
   "outputs": [
    {
     "data": {
      "text/html": [
       "<div>\n",
       "<style scoped>\n",
       "    .dataframe tbody tr th:only-of-type {\n",
       "        vertical-align: middle;\n",
       "    }\n",
       "\n",
       "    .dataframe tbody tr th {\n",
       "        vertical-align: top;\n",
       "    }\n",
       "\n",
       "    .dataframe thead th {\n",
       "        text-align: right;\n",
       "    }\n",
       "</style>\n",
       "<table border=\"1\" class=\"dataframe\">\n",
       "  <thead>\n",
       "    <tr style=\"text-align: right;\">\n",
       "      <th></th>\n",
       "      <th>App</th>\n",
       "      <th>Category</th>\n",
       "      <th>Rating</th>\n",
       "      <th>Reviews</th>\n",
       "      <th>Size</th>\n",
       "      <th>Installs</th>\n",
       "      <th>Type</th>\n",
       "      <th>Price</th>\n",
       "      <th>Content Rating</th>\n",
       "      <th>Genres</th>\n",
       "      <th>Last Updated</th>\n",
       "      <th>Current Ver</th>\n",
       "      <th>Android Ver</th>\n",
       "    </tr>\n",
       "  </thead>\n",
       "  <tbody>\n",
       "    <tr>\n",
       "      <th>1407</th>\n",
       "      <td>10 Best Foods for You</td>\n",
       "      <td>HEALTH_AND_FITNESS</td>\n",
       "      <td>4.0</td>\n",
       "      <td>2490</td>\n",
       "      <td>3.8M</td>\n",
       "      <td>500,000+</td>\n",
       "      <td>Free</td>\n",
       "      <td>0</td>\n",
       "      <td>Everyone 10+</td>\n",
       "      <td>Health &amp; Fitness</td>\n",
       "      <td>February 17, 2017</td>\n",
       "      <td>1.9</td>\n",
       "      <td>2.3.3 and up</td>\n",
       "    </tr>\n",
       "    <tr>\n",
       "      <th>2543</th>\n",
       "      <td>1800 Contacts - Lens Store</td>\n",
       "      <td>MEDICAL</td>\n",
       "      <td>4.7</td>\n",
       "      <td>23160</td>\n",
       "      <td>26M</td>\n",
       "      <td>1,000,000+</td>\n",
       "      <td>Free</td>\n",
       "      <td>0</td>\n",
       "      <td>Everyone</td>\n",
       "      <td>Medical</td>\n",
       "      <td>July 27, 2018</td>\n",
       "      <td>7.4.1</td>\n",
       "      <td>5.0 and up</td>\n",
       "    </tr>\n",
       "    <tr>\n",
       "      <th>2385</th>\n",
       "      <td>2017 EMRA Antibiotic Guide</td>\n",
       "      <td>MEDICAL</td>\n",
       "      <td>4.4</td>\n",
       "      <td>12</td>\n",
       "      <td>3.8M</td>\n",
       "      <td>1,000+</td>\n",
       "      <td>Paid</td>\n",
       "      <td>$16.99</td>\n",
       "      <td>Everyone</td>\n",
       "      <td>Medical</td>\n",
       "      <td>January 27, 2017</td>\n",
       "      <td>1.0.5</td>\n",
       "      <td>4.0.3 and up</td>\n",
       "    </tr>\n",
       "    <tr>\n",
       "      <th>1434</th>\n",
       "      <td>21-Day Meditation Experience</td>\n",
       "      <td>HEALTH_AND_FITNESS</td>\n",
       "      <td>4.4</td>\n",
       "      <td>11506</td>\n",
       "      <td>15M</td>\n",
       "      <td>100,000+</td>\n",
       "      <td>Free</td>\n",
       "      <td>0</td>\n",
       "      <td>Everyone</td>\n",
       "      <td>Health &amp; Fitness</td>\n",
       "      <td>August 2, 2018</td>\n",
       "      <td>3.0.0</td>\n",
       "      <td>4.1 and up</td>\n",
       "    </tr>\n",
       "    <tr>\n",
       "      <th>5415</th>\n",
       "      <td>365Scores - Live Scores</td>\n",
       "      <td>SPORTS</td>\n",
       "      <td>4.6</td>\n",
       "      <td>666246</td>\n",
       "      <td>25M</td>\n",
       "      <td>10,000,000+</td>\n",
       "      <td>Free</td>\n",
       "      <td>0</td>\n",
       "      <td>Everyone</td>\n",
       "      <td>Sports</td>\n",
       "      <td>July 29, 2018</td>\n",
       "      <td>5.5.9</td>\n",
       "      <td>4.1 and up</td>\n",
       "    </tr>\n",
       "    <tr>\n",
       "      <th>...</th>\n",
       "      <td>...</td>\n",
       "      <td>...</td>\n",
       "      <td>...</td>\n",
       "      <td>...</td>\n",
       "      <td>...</td>\n",
       "      <td>...</td>\n",
       "      <td>...</td>\n",
       "      <td>...</td>\n",
       "      <td>...</td>\n",
       "      <td>...</td>\n",
       "      <td>...</td>\n",
       "      <td>...</td>\n",
       "      <td>...</td>\n",
       "    </tr>\n",
       "    <tr>\n",
       "      <th>3055</th>\n",
       "      <td>theScore: Live Sports Scores, News, Stats &amp; Vi...</td>\n",
       "      <td>SPORTS</td>\n",
       "      <td>4.4</td>\n",
       "      <td>133833</td>\n",
       "      <td>34M</td>\n",
       "      <td>10,000,000+</td>\n",
       "      <td>Free</td>\n",
       "      <td>0</td>\n",
       "      <td>Everyone 10+</td>\n",
       "      <td>Sports</td>\n",
       "      <td>July 25, 2018</td>\n",
       "      <td>6.17.2</td>\n",
       "      <td>4.4 and up</td>\n",
       "    </tr>\n",
       "    <tr>\n",
       "      <th>3014</th>\n",
       "      <td>theScore: Live Sports Scores, News, Stats &amp; Vi...</td>\n",
       "      <td>SPORTS</td>\n",
       "      <td>4.4</td>\n",
       "      <td>133825</td>\n",
       "      <td>34M</td>\n",
       "      <td>10,000,000+</td>\n",
       "      <td>Free</td>\n",
       "      <td>0</td>\n",
       "      <td>Everyone 10+</td>\n",
       "      <td>Sports</td>\n",
       "      <td>July 25, 2018</td>\n",
       "      <td>6.17.2</td>\n",
       "      <td>4.4 and up</td>\n",
       "    </tr>\n",
       "    <tr>\n",
       "      <th>3202</th>\n",
       "      <td>trivago: Hotels &amp; Travel</td>\n",
       "      <td>TRAVEL_AND_LOCAL</td>\n",
       "      <td>4.2</td>\n",
       "      <td>219848</td>\n",
       "      <td>Varies with device</td>\n",
       "      <td>50,000,000+</td>\n",
       "      <td>Free</td>\n",
       "      <td>0</td>\n",
       "      <td>Everyone</td>\n",
       "      <td>Travel &amp; Local</td>\n",
       "      <td>August 2, 2018</td>\n",
       "      <td>Varies with device</td>\n",
       "      <td>Varies with device</td>\n",
       "    </tr>\n",
       "    <tr>\n",
       "      <th>3118</th>\n",
       "      <td>trivago: Hotels &amp; Travel</td>\n",
       "      <td>TRAVEL_AND_LOCAL</td>\n",
       "      <td>4.2</td>\n",
       "      <td>219848</td>\n",
       "      <td>Varies with device</td>\n",
       "      <td>50,000,000+</td>\n",
       "      <td>Free</td>\n",
       "      <td>0</td>\n",
       "      <td>Everyone</td>\n",
       "      <td>Travel &amp; Local</td>\n",
       "      <td>August 2, 2018</td>\n",
       "      <td>Varies with device</td>\n",
       "      <td>Varies with device</td>\n",
       "    </tr>\n",
       "    <tr>\n",
       "      <th>8291</th>\n",
       "      <td>wetter.com - Weather and Radar</td>\n",
       "      <td>WEATHER</td>\n",
       "      <td>4.2</td>\n",
       "      <td>189310</td>\n",
       "      <td>38M</td>\n",
       "      <td>10,000,000+</td>\n",
       "      <td>Free</td>\n",
       "      <td>0</td>\n",
       "      <td>Everyone</td>\n",
       "      <td>Weather</td>\n",
       "      <td>August 6, 2018</td>\n",
       "      <td>Varies with device</td>\n",
       "      <td>Varies with device</td>\n",
       "    </tr>\n",
       "  </tbody>\n",
       "</table>\n",
       "<p>1181 rows × 13 columns</p>\n",
       "</div>"
      ],
      "text/plain": [
       "                                                    App            Category  \\\n",
       "1407                              10 Best Foods for You  HEALTH_AND_FITNESS   \n",
       "2543                         1800 Contacts - Lens Store             MEDICAL   \n",
       "2385                         2017 EMRA Antibiotic Guide             MEDICAL   \n",
       "1434                       21-Day Meditation Experience  HEALTH_AND_FITNESS   \n",
       "5415                            365Scores - Live Scores              SPORTS   \n",
       "...                                                 ...                 ...   \n",
       "3055  theScore: Live Sports Scores, News, Stats & Vi...              SPORTS   \n",
       "3014  theScore: Live Sports Scores, News, Stats & Vi...              SPORTS   \n",
       "3202                           trivago: Hotels & Travel    TRAVEL_AND_LOCAL   \n",
       "3118                           trivago: Hotels & Travel    TRAVEL_AND_LOCAL   \n",
       "8291                     wetter.com - Weather and Radar             WEATHER   \n",
       "\n",
       "      Rating Reviews                Size     Installs  Type   Price  \\\n",
       "1407     4.0    2490                3.8M     500,000+  Free       0   \n",
       "2543     4.7   23160                 26M   1,000,000+  Free       0   \n",
       "2385     4.4      12                3.8M       1,000+  Paid  $16.99   \n",
       "1434     4.4   11506                 15M     100,000+  Free       0   \n",
       "5415     4.6  666246                 25M  10,000,000+  Free       0   \n",
       "...      ...     ...                 ...          ...   ...     ...   \n",
       "3055     4.4  133833                 34M  10,000,000+  Free       0   \n",
       "3014     4.4  133825                 34M  10,000,000+  Free       0   \n",
       "3202     4.2  219848  Varies with device  50,000,000+  Free       0   \n",
       "3118     4.2  219848  Varies with device  50,000,000+  Free       0   \n",
       "8291     4.2  189310                 38M  10,000,000+  Free       0   \n",
       "\n",
       "     Content Rating            Genres       Last Updated         Current Ver  \\\n",
       "1407   Everyone 10+  Health & Fitness  February 17, 2017                 1.9   \n",
       "2543       Everyone           Medical      July 27, 2018               7.4.1   \n",
       "2385       Everyone           Medical   January 27, 2017               1.0.5   \n",
       "1434       Everyone  Health & Fitness     August 2, 2018               3.0.0   \n",
       "5415       Everyone            Sports      July 29, 2018               5.5.9   \n",
       "...             ...               ...                ...                 ...   \n",
       "3055   Everyone 10+            Sports      July 25, 2018              6.17.2   \n",
       "3014   Everyone 10+            Sports      July 25, 2018              6.17.2   \n",
       "3202       Everyone    Travel & Local     August 2, 2018  Varies with device   \n",
       "3118       Everyone    Travel & Local     August 2, 2018  Varies with device   \n",
       "8291       Everyone           Weather     August 6, 2018  Varies with device   \n",
       "\n",
       "             Android Ver  \n",
       "1407        2.3.3 and up  \n",
       "2543          5.0 and up  \n",
       "2385        4.0.3 and up  \n",
       "1434          4.1 and up  \n",
       "5415          4.1 and up  \n",
       "...                  ...  \n",
       "3055          4.4 and up  \n",
       "3014          4.4 and up  \n",
       "3202  Varies with device  \n",
       "3118  Varies with device  \n",
       "8291  Varies with device  \n",
       "\n",
       "[1181 rows x 13 columns]"
      ]
     },
     "execution_count": 11,
     "metadata": {},
     "output_type": "execute_result"
    }
   ],
   "source": [
    "# Duplicated rows by App\n",
    "Duplicate = data1[data1.duplicated('App')]\n",
    "Duplicate.sort_values(by=['App'])"
   ]
  },
  {
   "cell_type": "code",
   "execution_count": 12,
   "id": "a62ad4ae",
   "metadata": {},
   "outputs": [
    {
     "data": {
      "text/html": [
       "<div>\n",
       "<style scoped>\n",
       "    .dataframe tbody tr th:only-of-type {\n",
       "        vertical-align: middle;\n",
       "    }\n",
       "\n",
       "    .dataframe tbody tr th {\n",
       "        vertical-align: top;\n",
       "    }\n",
       "\n",
       "    .dataframe thead th {\n",
       "        text-align: right;\n",
       "    }\n",
       "</style>\n",
       "<table border=\"1\" class=\"dataframe\">\n",
       "  <thead>\n",
       "    <tr style=\"text-align: right;\">\n",
       "      <th></th>\n",
       "      <th>count</th>\n",
       "      <th>unique</th>\n",
       "      <th>top</th>\n",
       "      <th>freq</th>\n",
       "      <th>mean</th>\n",
       "      <th>std</th>\n",
       "      <th>min</th>\n",
       "      <th>25%</th>\n",
       "      <th>50%</th>\n",
       "      <th>75%</th>\n",
       "      <th>max</th>\n",
       "    </tr>\n",
       "  </thead>\n",
       "  <tbody>\n",
       "    <tr>\n",
       "      <th>App</th>\n",
       "      <td>10841</td>\n",
       "      <td>9660</td>\n",
       "      <td>ROBLOX</td>\n",
       "      <td>9</td>\n",
       "      <td>NaN</td>\n",
       "      <td>NaN</td>\n",
       "      <td>NaN</td>\n",
       "      <td>NaN</td>\n",
       "      <td>NaN</td>\n",
       "      <td>NaN</td>\n",
       "      <td>NaN</td>\n",
       "    </tr>\n",
       "    <tr>\n",
       "      <th>Category</th>\n",
       "      <td>10841</td>\n",
       "      <td>34</td>\n",
       "      <td>FAMILY</td>\n",
       "      <td>1972</td>\n",
       "      <td>NaN</td>\n",
       "      <td>NaN</td>\n",
       "      <td>NaN</td>\n",
       "      <td>NaN</td>\n",
       "      <td>NaN</td>\n",
       "      <td>NaN</td>\n",
       "      <td>NaN</td>\n",
       "    </tr>\n",
       "    <tr>\n",
       "      <th>Rating</th>\n",
       "      <td>9367.0</td>\n",
       "      <td>NaN</td>\n",
       "      <td>NaN</td>\n",
       "      <td>NaN</td>\n",
       "      <td>4.193338</td>\n",
       "      <td>0.537431</td>\n",
       "      <td>1.0</td>\n",
       "      <td>4.0</td>\n",
       "      <td>4.3</td>\n",
       "      <td>4.5</td>\n",
       "      <td>19.0</td>\n",
       "    </tr>\n",
       "    <tr>\n",
       "      <th>Reviews</th>\n",
       "      <td>10841</td>\n",
       "      <td>6002</td>\n",
       "      <td>0</td>\n",
       "      <td>596</td>\n",
       "      <td>NaN</td>\n",
       "      <td>NaN</td>\n",
       "      <td>NaN</td>\n",
       "      <td>NaN</td>\n",
       "      <td>NaN</td>\n",
       "      <td>NaN</td>\n",
       "      <td>NaN</td>\n",
       "    </tr>\n",
       "    <tr>\n",
       "      <th>Size</th>\n",
       "      <td>10841</td>\n",
       "      <td>462</td>\n",
       "      <td>Varies with device</td>\n",
       "      <td>1695</td>\n",
       "      <td>NaN</td>\n",
       "      <td>NaN</td>\n",
       "      <td>NaN</td>\n",
       "      <td>NaN</td>\n",
       "      <td>NaN</td>\n",
       "      <td>NaN</td>\n",
       "      <td>NaN</td>\n",
       "    </tr>\n",
       "    <tr>\n",
       "      <th>Installs</th>\n",
       "      <td>10841</td>\n",
       "      <td>22</td>\n",
       "      <td>1,000,000+</td>\n",
       "      <td>1579</td>\n",
       "      <td>NaN</td>\n",
       "      <td>NaN</td>\n",
       "      <td>NaN</td>\n",
       "      <td>NaN</td>\n",
       "      <td>NaN</td>\n",
       "      <td>NaN</td>\n",
       "      <td>NaN</td>\n",
       "    </tr>\n",
       "    <tr>\n",
       "      <th>Type</th>\n",
       "      <td>10840</td>\n",
       "      <td>3</td>\n",
       "      <td>Free</td>\n",
       "      <td>10039</td>\n",
       "      <td>NaN</td>\n",
       "      <td>NaN</td>\n",
       "      <td>NaN</td>\n",
       "      <td>NaN</td>\n",
       "      <td>NaN</td>\n",
       "      <td>NaN</td>\n",
       "      <td>NaN</td>\n",
       "    </tr>\n",
       "    <tr>\n",
       "      <th>Price</th>\n",
       "      <td>10841</td>\n",
       "      <td>93</td>\n",
       "      <td>0</td>\n",
       "      <td>10040</td>\n",
       "      <td>NaN</td>\n",
       "      <td>NaN</td>\n",
       "      <td>NaN</td>\n",
       "      <td>NaN</td>\n",
       "      <td>NaN</td>\n",
       "      <td>NaN</td>\n",
       "      <td>NaN</td>\n",
       "    </tr>\n",
       "    <tr>\n",
       "      <th>Content Rating</th>\n",
       "      <td>10840</td>\n",
       "      <td>6</td>\n",
       "      <td>Everyone</td>\n",
       "      <td>8714</td>\n",
       "      <td>NaN</td>\n",
       "      <td>NaN</td>\n",
       "      <td>NaN</td>\n",
       "      <td>NaN</td>\n",
       "      <td>NaN</td>\n",
       "      <td>NaN</td>\n",
       "      <td>NaN</td>\n",
       "    </tr>\n",
       "    <tr>\n",
       "      <th>Genres</th>\n",
       "      <td>10841</td>\n",
       "      <td>120</td>\n",
       "      <td>Tools</td>\n",
       "      <td>842</td>\n",
       "      <td>NaN</td>\n",
       "      <td>NaN</td>\n",
       "      <td>NaN</td>\n",
       "      <td>NaN</td>\n",
       "      <td>NaN</td>\n",
       "      <td>NaN</td>\n",
       "      <td>NaN</td>\n",
       "    </tr>\n",
       "    <tr>\n",
       "      <th>Last Updated</th>\n",
       "      <td>10841</td>\n",
       "      <td>1378</td>\n",
       "      <td>August 3, 2018</td>\n",
       "      <td>326</td>\n",
       "      <td>NaN</td>\n",
       "      <td>NaN</td>\n",
       "      <td>NaN</td>\n",
       "      <td>NaN</td>\n",
       "      <td>NaN</td>\n",
       "      <td>NaN</td>\n",
       "      <td>NaN</td>\n",
       "    </tr>\n",
       "    <tr>\n",
       "      <th>Current Ver</th>\n",
       "      <td>10833</td>\n",
       "      <td>2832</td>\n",
       "      <td>Varies with device</td>\n",
       "      <td>1459</td>\n",
       "      <td>NaN</td>\n",
       "      <td>NaN</td>\n",
       "      <td>NaN</td>\n",
       "      <td>NaN</td>\n",
       "      <td>NaN</td>\n",
       "      <td>NaN</td>\n",
       "      <td>NaN</td>\n",
       "    </tr>\n",
       "    <tr>\n",
       "      <th>Android Ver</th>\n",
       "      <td>10838</td>\n",
       "      <td>33</td>\n",
       "      <td>4.1 and up</td>\n",
       "      <td>2451</td>\n",
       "      <td>NaN</td>\n",
       "      <td>NaN</td>\n",
       "      <td>NaN</td>\n",
       "      <td>NaN</td>\n",
       "      <td>NaN</td>\n",
       "      <td>NaN</td>\n",
       "      <td>NaN</td>\n",
       "    </tr>\n",
       "  </tbody>\n",
       "</table>\n",
       "</div>"
      ],
      "text/plain": [
       "                 count unique                 top   freq      mean       std  \\\n",
       "App              10841   9660              ROBLOX      9       NaN       NaN   \n",
       "Category         10841     34              FAMILY   1972       NaN       NaN   \n",
       "Rating          9367.0    NaN                 NaN    NaN  4.193338  0.537431   \n",
       "Reviews          10841   6002                   0    596       NaN       NaN   \n",
       "Size             10841    462  Varies with device   1695       NaN       NaN   \n",
       "Installs         10841     22          1,000,000+   1579       NaN       NaN   \n",
       "Type             10840      3                Free  10039       NaN       NaN   \n",
       "Price            10841     93                   0  10040       NaN       NaN   \n",
       "Content Rating   10840      6            Everyone   8714       NaN       NaN   \n",
       "Genres           10841    120               Tools    842       NaN       NaN   \n",
       "Last Updated     10841   1378      August 3, 2018    326       NaN       NaN   \n",
       "Current Ver      10833   2832  Varies with device   1459       NaN       NaN   \n",
       "Android Ver      10838     33          4.1 and up   2451       NaN       NaN   \n",
       "\n",
       "                min  25%  50%  75%   max  \n",
       "App             NaN  NaN  NaN  NaN   NaN  \n",
       "Category        NaN  NaN  NaN  NaN   NaN  \n",
       "Rating          1.0  4.0  4.3  4.5  19.0  \n",
       "Reviews         NaN  NaN  NaN  NaN   NaN  \n",
       "Size            NaN  NaN  NaN  NaN   NaN  \n",
       "Installs        NaN  NaN  NaN  NaN   NaN  \n",
       "Type            NaN  NaN  NaN  NaN   NaN  \n",
       "Price           NaN  NaN  NaN  NaN   NaN  \n",
       "Content Rating  NaN  NaN  NaN  NaN   NaN  \n",
       "Genres          NaN  NaN  NaN  NaN   NaN  \n",
       "Last Updated    NaN  NaN  NaN  NaN   NaN  \n",
       "Current Ver     NaN  NaN  NaN  NaN   NaN  \n",
       "Android Ver     NaN  NaN  NaN  NaN   NaN  "
      ]
     },
     "execution_count": 12,
     "metadata": {},
     "output_type": "execute_result"
    }
   ],
   "source": [
    "data1.describe(include=\"all\").T"
   ]
  },
  {
   "cell_type": "markdown",
   "id": "adc6bda3",
   "metadata": {},
   "source": [
    "# Rating column has many null values. we have to remove those as it is our dependent variable."
   ]
  },
  {
   "cell_type": "code",
   "execution_count": 13,
   "id": "1d975233",
   "metadata": {},
   "outputs": [
    {
     "data": {
      "text/html": [
       "<style type=\"text/css\">\n",
       "#T_70d10_row0_col0, #T_70d10_row0_col1 {\n",
       "  background-color: #67000d;\n",
       "  color: #f1f1f1;\n",
       "}\n",
       "#T_70d10_row1_col0, #T_70d10_row1_col1 {\n",
       "  background-color: #fff4ef;\n",
       "  color: #000000;\n",
       "}\n",
       "#T_70d10_row2_col0, #T_70d10_row2_col1, #T_70d10_row3_col0, #T_70d10_row3_col1, #T_70d10_row4_col0, #T_70d10_row4_col1, #T_70d10_row5_col0, #T_70d10_row5_col1, #T_70d10_row6_col0, #T_70d10_row6_col1, #T_70d10_row7_col0, #T_70d10_row7_col1, #T_70d10_row8_col0, #T_70d10_row8_col1, #T_70d10_row9_col0, #T_70d10_row9_col1, #T_70d10_row10_col0, #T_70d10_row10_col1, #T_70d10_row11_col0, #T_70d10_row11_col1, #T_70d10_row12_col0, #T_70d10_row12_col1 {\n",
       "  background-color: #fff5f0;\n",
       "  color: #000000;\n",
       "}\n",
       "</style>\n",
       "<table id=\"T_70d10\">\n",
       "  <thead>\n",
       "    <tr>\n",
       "      <th class=\"blank level0\" >&nbsp;</th>\n",
       "      <th id=\"T_70d10_level0_col0\" class=\"col_heading level0 col0\" >Count</th>\n",
       "      <th id=\"T_70d10_level0_col1\" class=\"col_heading level0 col1\" >%</th>\n",
       "    </tr>\n",
       "  </thead>\n",
       "  <tbody>\n",
       "    <tr>\n",
       "      <th id=\"T_70d10_level0_row0\" class=\"row_heading level0 row0\" >Rating</th>\n",
       "      <td id=\"T_70d10_row0_col0\" class=\"data row0 col0\" >1474</td>\n",
       "      <td id=\"T_70d10_row0_col1\" class=\"data row0 col1\" >13.596532</td>\n",
       "    </tr>\n",
       "    <tr>\n",
       "      <th id=\"T_70d10_level0_row1\" class=\"row_heading level0 row1\" >Current Ver</th>\n",
       "      <td id=\"T_70d10_row1_col0\" class=\"data row1 col0\" >8</td>\n",
       "      <td id=\"T_70d10_row1_col1\" class=\"data row1 col1\" >0.073794</td>\n",
       "    </tr>\n",
       "    <tr>\n",
       "      <th id=\"T_70d10_level0_row2\" class=\"row_heading level0 row2\" >Android Ver</th>\n",
       "      <td id=\"T_70d10_row2_col0\" class=\"data row2 col0\" >3</td>\n",
       "      <td id=\"T_70d10_row2_col1\" class=\"data row2 col1\" >0.027673</td>\n",
       "    </tr>\n",
       "    <tr>\n",
       "      <th id=\"T_70d10_level0_row3\" class=\"row_heading level0 row3\" >Type</th>\n",
       "      <td id=\"T_70d10_row3_col0\" class=\"data row3 col0\" >1</td>\n",
       "      <td id=\"T_70d10_row3_col1\" class=\"data row3 col1\" >0.009224</td>\n",
       "    </tr>\n",
       "    <tr>\n",
       "      <th id=\"T_70d10_level0_row4\" class=\"row_heading level0 row4\" >Content Rating</th>\n",
       "      <td id=\"T_70d10_row4_col0\" class=\"data row4 col0\" >1</td>\n",
       "      <td id=\"T_70d10_row4_col1\" class=\"data row4 col1\" >0.009224</td>\n",
       "    </tr>\n",
       "    <tr>\n",
       "      <th id=\"T_70d10_level0_row5\" class=\"row_heading level0 row5\" >App</th>\n",
       "      <td id=\"T_70d10_row5_col0\" class=\"data row5 col0\" >0</td>\n",
       "      <td id=\"T_70d10_row5_col1\" class=\"data row5 col1\" >0.000000</td>\n",
       "    </tr>\n",
       "    <tr>\n",
       "      <th id=\"T_70d10_level0_row6\" class=\"row_heading level0 row6\" >Category</th>\n",
       "      <td id=\"T_70d10_row6_col0\" class=\"data row6 col0\" >0</td>\n",
       "      <td id=\"T_70d10_row6_col1\" class=\"data row6 col1\" >0.000000</td>\n",
       "    </tr>\n",
       "    <tr>\n",
       "      <th id=\"T_70d10_level0_row7\" class=\"row_heading level0 row7\" >Reviews</th>\n",
       "      <td id=\"T_70d10_row7_col0\" class=\"data row7 col0\" >0</td>\n",
       "      <td id=\"T_70d10_row7_col1\" class=\"data row7 col1\" >0.000000</td>\n",
       "    </tr>\n",
       "    <tr>\n",
       "      <th id=\"T_70d10_level0_row8\" class=\"row_heading level0 row8\" >Size</th>\n",
       "      <td id=\"T_70d10_row8_col0\" class=\"data row8 col0\" >0</td>\n",
       "      <td id=\"T_70d10_row8_col1\" class=\"data row8 col1\" >0.000000</td>\n",
       "    </tr>\n",
       "    <tr>\n",
       "      <th id=\"T_70d10_level0_row9\" class=\"row_heading level0 row9\" >Installs</th>\n",
       "      <td id=\"T_70d10_row9_col0\" class=\"data row9 col0\" >0</td>\n",
       "      <td id=\"T_70d10_row9_col1\" class=\"data row9 col1\" >0.000000</td>\n",
       "    </tr>\n",
       "    <tr>\n",
       "      <th id=\"T_70d10_level0_row10\" class=\"row_heading level0 row10\" >Price</th>\n",
       "      <td id=\"T_70d10_row10_col0\" class=\"data row10 col0\" >0</td>\n",
       "      <td id=\"T_70d10_row10_col1\" class=\"data row10 col1\" >0.000000</td>\n",
       "    </tr>\n",
       "    <tr>\n",
       "      <th id=\"T_70d10_level0_row11\" class=\"row_heading level0 row11\" >Genres</th>\n",
       "      <td id=\"T_70d10_row11_col0\" class=\"data row11 col0\" >0</td>\n",
       "      <td id=\"T_70d10_row11_col1\" class=\"data row11 col1\" >0.000000</td>\n",
       "    </tr>\n",
       "    <tr>\n",
       "      <th id=\"T_70d10_level0_row12\" class=\"row_heading level0 row12\" >Last Updated</th>\n",
       "      <td id=\"T_70d10_row12_col0\" class=\"data row12 col0\" >0</td>\n",
       "      <td id=\"T_70d10_row12_col1\" class=\"data row12 col1\" >0.000000</td>\n",
       "    </tr>\n",
       "  </tbody>\n",
       "</table>\n"
      ],
      "text/plain": [
       "<pandas.io.formats.style.Styler at 0x1fc23960c70>"
      ]
     },
     "metadata": {},
     "output_type": "display_data"
    }
   ],
   "source": [
    "missing_value = data1.isnull().sum().sort_values(ascending = False)\n",
    "missing_perc = (data1.isnull().sum()*100/data1.shape[0]).sort_values(ascending = False)\n",
    "value = pd.concat([missing_value,missing_perc],axis=1,keys=['Count','%'])\n",
    "display(value.head(20).style.background_gradient(cmap = 'Reds', axis = 0))"
   ]
  },
  {
   "cell_type": "code",
   "execution_count": 14,
   "id": "deb6b3c6",
   "metadata": {},
   "outputs": [],
   "source": [
    "# Removes missing values\n",
    "data1_final = data1.dropna()"
   ]
  },
  {
   "cell_type": "code",
   "execution_count": 15,
   "id": "f5f840d1",
   "metadata": {},
   "outputs": [
    {
     "data": {
      "text/plain": [
       "(9360, 13)"
      ]
     },
     "execution_count": 15,
     "metadata": {},
     "output_type": "execute_result"
    }
   ],
   "source": [
    "data1_final.shape"
   ]
  },
  {
   "cell_type": "code",
   "execution_count": 16,
   "id": "5b83b707",
   "metadata": {},
   "outputs": [
    {
     "data": {
      "text/plain": [
       "FAMILY                 1746\n",
       "GAME                   1097\n",
       "TOOLS                   733\n",
       "PRODUCTIVITY            351\n",
       "MEDICAL                 350\n",
       "COMMUNICATION           328\n",
       "FINANCE                 323\n",
       "SPORTS                  319\n",
       "PHOTOGRAPHY             317\n",
       "LIFESTYLE               314\n",
       "PERSONALIZATION         312\n",
       "BUSINESS                303\n",
       "HEALTH_AND_FITNESS      297\n",
       "SOCIAL                  259\n",
       "SHOPPING                238\n",
       "NEWS_AND_MAGAZINES      233\n",
       "TRAVEL_AND_LOCAL        226\n",
       "DATING                  195\n",
       "BOOKS_AND_REFERENCE     178\n",
       "VIDEO_PLAYERS           160\n",
       "EDUCATION               155\n",
       "ENTERTAINMENT           149\n",
       "MAPS_AND_NAVIGATION     124\n",
       "FOOD_AND_DRINK          109\n",
       "HOUSE_AND_HOME           76\n",
       "WEATHER                  75\n",
       "AUTO_AND_VEHICLES        73\n",
       "LIBRARIES_AND_DEMO       64\n",
       "ART_AND_DESIGN           61\n",
       "COMICS                   58\n",
       "PARENTING                50\n",
       "EVENTS                   45\n",
       "BEAUTY                   42\n",
       "Name: Category, dtype: int64"
      ]
     },
     "execution_count": 16,
     "metadata": {},
     "output_type": "execute_result"
    }
   ],
   "source": [
    "data1_final['Category'].value_counts(dropna=False)"
   ]
  },
  {
   "cell_type": "markdown",
   "id": "8a2a1cdf",
   "metadata": {},
   "source": [
    "# There are so many categories, better to check out different types of encoding - OHE, Count/Frequency Encoding"
   ]
  },
  {
   "cell_type": "code",
   "execution_count": 17,
   "id": "c229d7dd",
   "metadata": {},
   "outputs": [],
   "source": [
    "def freq_encode(x):\n",
    "    df_frequency_map = data1_final[x].value_counts().to_dict()\n",
    "    data1_final[x] = data1_final[x].map(df_frequency_map)"
   ]
  },
  {
   "cell_type": "code",
   "execution_count": 18,
   "id": "542ad6e6",
   "metadata": {},
   "outputs": [],
   "source": [
    "freq_encode('Category')"
   ]
  },
  {
   "cell_type": "code",
   "execution_count": 19,
   "id": "b0849833",
   "metadata": {},
   "outputs": [
    {
     "data": {
      "text/plain": [
       "1746    1746\n",
       "1097    1097\n",
       "733      733\n",
       "351      351\n",
       "350      350\n",
       "328      328\n",
       "323      323\n",
       "319      319\n",
       "317      317\n",
       "314      314\n",
       "312      312\n",
       "303      303\n",
       "297      297\n",
       "259      259\n",
       "238      238\n",
       "233      233\n",
       "226      226\n",
       "195      195\n",
       "178      178\n",
       "160      160\n",
       "155      155\n",
       "149      149\n",
       "124      124\n",
       "109      109\n",
       "76        76\n",
       "75        75\n",
       "73        73\n",
       "64        64\n",
       "61        61\n",
       "58        58\n",
       "50        50\n",
       "45        45\n",
       "42        42\n",
       "Name: Category, dtype: int64"
      ]
     },
     "execution_count": 19,
     "metadata": {},
     "output_type": "execute_result"
    }
   ],
   "source": [
    "data1_final['Category'].value_counts(dropna=False)"
   ]
  },
  {
   "cell_type": "code",
   "execution_count": 20,
   "id": "020a7be6",
   "metadata": {},
   "outputs": [
    {
     "data": {
      "text/plain": [
       "Varies with device    1415\n",
       "1.0                    458\n",
       "1.1                    194\n",
       "1.2                    126\n",
       "1.3                    120\n",
       "                      ... \n",
       "2.9.10                   1\n",
       "3.18.5                   1\n",
       "1.3.A.2.9                1\n",
       "9.9.1.1910               1\n",
       "0.3.4                    1\n",
       "Name: Current Ver, Length: 2638, dtype: int64"
      ]
     },
     "execution_count": 20,
     "metadata": {},
     "output_type": "execute_result"
    }
   ],
   "source": [
    "data1_final['Current Ver'].value_counts(dropna=False)"
   ]
  },
  {
   "cell_type": "code",
   "execution_count": 21,
   "id": "48d12521",
   "metadata": {},
   "outputs": [
    {
     "data": {
      "text/plain": [
       "4.1 and up            2059\n",
       "Varies with device    1319\n",
       "4.0.3 and up          1240\n",
       "4.0 and up            1129\n",
       "4.4 and up             875\n",
       "2.3 and up             582\n",
       "5.0 and up             535\n",
       "4.2 and up             337\n",
       "2.3.3 and up           240\n",
       "3.0 and up             211\n",
       "2.2 and up             208\n",
       "4.3 and up             207\n",
       "2.1 and up             113\n",
       "1.6 and up              87\n",
       "6.0 and up              48\n",
       "7.0 and up              41\n",
       "3.2 and up              31\n",
       "2.0 and up              27\n",
       "5.1 and up              18\n",
       "1.5 and up              15\n",
       "3.1 and up               8\n",
       "2.0.1 and up             7\n",
       "4.4W and up              6\n",
       "8.0 and up               5\n",
       "7.1 and up               3\n",
       "4.0.3 - 7.1.1            2\n",
       "5.0 - 8.0                2\n",
       "1.0 and up               2\n",
       "7.0 - 7.1.1              1\n",
       "4.1 - 7.1.1              1\n",
       "5.0 - 6.0                1\n",
       "Name: Android Ver, dtype: int64"
      ]
     },
     "execution_count": 21,
     "metadata": {},
     "output_type": "execute_result"
    }
   ],
   "source": [
    "data1_final['Android Ver'].value_counts(dropna=False)"
   ]
  },
  {
   "cell_type": "code",
   "execution_count": 22,
   "id": "60d371c9",
   "metadata": {},
   "outputs": [],
   "source": [
    "# We can possibly clean this up and use it as one of the features            \n",
    "def split_it(x):\n",
    "    non_decimal = re.compile(r'[^\\d.]+')\n",
    "    return non_decimal.sub('', x)\n",
    "            \n",
    "data1_final['Android'] = data1_final['Android Ver'].apply(split_it)"
   ]
  },
  {
   "cell_type": "code",
   "execution_count": 23,
   "id": "b64a5b5b",
   "metadata": {},
   "outputs": [],
   "source": [
    "def clean_it(x):\n",
    "    clean = re.compile('\\W+')\n",
    "    return clean.sub('',x)"
   ]
  },
  {
   "cell_type": "code",
   "execution_count": 24,
   "id": "c5ac6734",
   "metadata": {},
   "outputs": [
    {
     "data": {
      "text/plain": [
       "4.1           2059\n",
       "              1319\n",
       "4.0.3         1240\n",
       "4.0           1129\n",
       "4.4            881\n",
       "2.3            582\n",
       "5.0            535\n",
       "4.2            337\n",
       "2.3.3          240\n",
       "3.0            211\n",
       "2.2            208\n",
       "4.3            207\n",
       "2.1            113\n",
       "1.6             87\n",
       "6.0             48\n",
       "7.0             41\n",
       "3.2             31\n",
       "2.0             27\n",
       "5.1             18\n",
       "1.5             15\n",
       "3.1              8\n",
       "2.0.1            7\n",
       "8.0              5\n",
       "7.1              3\n",
       "4.0.37.1.1       2\n",
       "5.08.0           2\n",
       "1.0              2\n",
       "7.07.1.1         1\n",
       "4.17.1.1         1\n",
       "5.06.0           1\n",
       "Name: Android, dtype: int64"
      ]
     },
     "execution_count": 24,
     "metadata": {},
     "output_type": "execute_result"
    }
   ],
   "source": [
    "data1_final['Android'].value_counts(dropna = False)"
   ]
  },
  {
   "cell_type": "code",
   "execution_count": 25,
   "id": "bdc60153",
   "metadata": {},
   "outputs": [],
   "source": [
    "conditions = [\n",
    "    (data1_final['Android'] == \"1.0\" ) | (data1_final['Android'] == \"1.6\" ) | (data1_final['Android'] == \"1.5\" ),\n",
    "    \n",
    "    (data1_final['Android'] == \"2.0.1\" ) | (data1_final['Android'] == \"2.3\" ) |(data1_final['Android'] == \"2.3.3\" ) |\n",
    "    (data1_final['Android'] == \"2.1\" ) | (data1_final['Android'] == \"2.2\" ) | (data1_final['Android'] == \"2.0\" ),\n",
    "    \n",
    "    (data1_final['Android'] == \"3.0\" ) | (data1_final['Android'] == \"3.1\" ) | (data1_final['Android'] == \"3.2\" ),\n",
    "    \n",
    "    (data1_final['Android'] == \"8.0\" ) | (data1_final['Android'] == \"7.1\" ) | (data1_final['Android'] == \"4.0.37.1.1\" )|\n",
    "    (data1_final['Android'] == \"5.08.0\" ) | (data1_final['Android'] == \"7.07.1.1\" ) | (data1_final['Android'] == \"4.17.1.1\" )|\n",
    "    (data1_final['Android'] == \"5.06.0\" ) | (data1_final['Android'] == \"5.1\" ), \n",
    "    \n",
    "    (data1_final['Android'] == \"\" ) \n",
    "    \n",
    "    ]\n",
    "\n",
    "choices = ['1','2','3', 'Other', np.nan]\n",
    "data1_final['Android_ver_final'] = np.select(conditions, choices, default= data1_final['Android'])"
   ]
  },
  {
   "cell_type": "code",
   "execution_count": 26,
   "id": "54a0acca",
   "metadata": {},
   "outputs": [
    {
     "data": {
      "text/plain": [
       "4.1      2059\n",
       "NaN      1319\n",
       "4.0.3    1240\n",
       "2        1177\n",
       "4.0      1129\n",
       "4.4       881\n",
       "5.0       535\n",
       "4.2       337\n",
       "3         250\n",
       "4.3       207\n",
       "1         104\n",
       "6.0        48\n",
       "7.0        41\n",
       "Other      33\n",
       "Name: Android_ver_final, dtype: int64"
      ]
     },
     "execution_count": 26,
     "metadata": {},
     "output_type": "execute_result"
    }
   ],
   "source": [
    "data1_final['Android_ver_final'].value_counts(dropna = False)"
   ]
  },
  {
   "cell_type": "code",
   "execution_count": 27,
   "id": "e28613f5",
   "metadata": {},
   "outputs": [
    {
     "data": {
      "text/plain": [
       "4.4    1108\n",
       "4.3    1076\n",
       "4.5    1037\n",
       "4.2     951\n",
       "4.6     823\n",
       "4.1     707\n",
       "4.0     567\n",
       "4.7     499\n",
       "3.9     386\n",
       "3.8     303\n",
       "5.0     274\n",
       "3.7     239\n",
       "4.8     234\n",
       "3.6     174\n",
       "3.5     163\n",
       "3.4     128\n",
       "3.3     102\n",
       "4.9      87\n",
       "3.0      83\n",
       "3.1      69\n",
       "3.2      63\n",
       "2.9      45\n",
       "2.8      42\n",
       "2.7      25\n",
       "2.6      25\n",
       "2.5      21\n",
       "2.3      20\n",
       "2.4      19\n",
       "1.0      16\n",
       "2.2      14\n",
       "1.9      13\n",
       "2.0      12\n",
       "1.7       8\n",
       "1.8       8\n",
       "2.1       8\n",
       "1.6       4\n",
       "1.4       3\n",
       "1.5       3\n",
       "1.2       1\n",
       "Name: Rating, dtype: int64"
      ]
     },
     "execution_count": 27,
     "metadata": {},
     "output_type": "execute_result"
    }
   ],
   "source": [
    "data1_final['Rating'].value_counts(dropna = False)"
   ]
  },
  {
   "cell_type": "code",
   "execution_count": 28,
   "id": "4658107c",
   "metadata": {},
   "outputs": [
    {
     "data": {
      "text/plain": [
       "2         83\n",
       "3         78\n",
       "5         74\n",
       "4         74\n",
       "1         67\n",
       "          ..\n",
       "666521     1\n",
       "342912     1\n",
       "4272       1\n",
       "5517       1\n",
       "398307     1\n",
       "Name: Reviews, Length: 5990, dtype: int64"
      ]
     },
     "execution_count": 28,
     "metadata": {},
     "output_type": "execute_result"
    }
   ],
   "source": [
    "data1_final['Reviews'].value_counts(dropna = False)"
   ]
  },
  {
   "cell_type": "markdown",
   "id": "9ba89572",
   "metadata": {},
   "source": [
    "# Visualizing some of the features - Reviews, Ratings etc"
   ]
  },
  {
   "cell_type": "code",
   "execution_count": 29,
   "id": "5d7343b2",
   "metadata": {},
   "outputs": [],
   "source": [
    "data1_final['Reviews']= data1_final['Reviews'].astype(float)"
   ]
  },
  {
   "cell_type": "code",
   "execution_count": 30,
   "id": "d7f4654b",
   "metadata": {},
   "outputs": [
    {
     "data": {
      "text/plain": [
       "[<matplotlib.lines.Line2D at 0x1fc2433d7c0>]"
      ]
     },
     "execution_count": 30,
     "metadata": {},
     "output_type": "execute_result"
    },
    {
     "data": {
      "image/png": "[encoded data removed]",
      "text/plain": [
       "<Figure size 432x288 with 1 Axes>"
      ]
     },
     "metadata": {
      "needs_background": "light"
     },
     "output_type": "display_data"
    }
   ],
   "source": [
    "plt.plot(data1_final['Reviews'])"
   ]
  },
  {
   "cell_type": "code",
   "execution_count": 31,
   "id": "7c2606d9",
   "metadata": {},
   "outputs": [
    {
     "data": {
      "text/plain": [
       "Text(0.5, 1.0, 'Distribution of Reviews')"
      ]
     },
     "execution_count": 31,
     "metadata": {},
     "output_type": "execute_result"
    },
    {
     "data": {
      "image/png": "[encoded data removed]",
      "text/plain": [
       "<Figure size 842.4x595.44 with 1 Axes>"
      ]
     },
     "metadata": {
      "needs_background": "light"
     },
     "output_type": "display_data"
    }
   ],
   "source": [
    "# rating distibution \n",
    "rcParams['figure.figsize'] = 11.7,8.27\n",
    "g = sns.kdeplot(data1_final.Reviews, color=\"Red\", shade = True)\n",
    "g.set_xlabel(\"Reviews\")\n",
    "g.set_ylabel(\"Frequency\")\n",
    "plt.title('Distribution of Reviews',size = 20)"
   ]
  },
  {
   "cell_type": "code",
   "execution_count": 32,
   "id": "36ae18f2",
   "metadata": {},
   "outputs": [
    {
     "data": {
      "text/plain": [
       "Text(0.5, 1.0, 'Distribution of Rating')"
      ]
     },
     "execution_count": 32,
     "metadata": {},
     "output_type": "execute_result"
    },
    {
     "data": {
      "image/png": "[encoded data removed]",
      "text/plain": [
       "<Figure size 842.4x595.44 with 1 Axes>"
      ]
     },
     "metadata": {
      "needs_background": "light"
     },
     "output_type": "display_data"
    }
   ],
   "source": [
    "# rating distibution \n",
    "rcParams['figure.figsize'] = 11.7,8.27\n",
    "g = sns.kdeplot(data1_final.Rating, color=\"Red\", shade = True)\n",
    "g.set_xlabel(\"Rating\")\n",
    "g.set_ylabel(\"Frequency\")\n",
    "plt.title('Distribution of Rating',size = 20)"
   ]
  },
  {
   "cell_type": "code",
   "execution_count": 33,
   "id": "805c5ba6",
   "metadata": {},
   "outputs": [
    {
     "data": {
      "text/plain": [
       "Text(0.5, 0, 'Rating')"
      ]
     },
     "execution_count": 33,
     "metadata": {},
     "output_type": "execute_result"
    },
    {
     "data": {
      "image/png": "[encoded data removed]",
      "text/plain": [
       "<Figure size 842.4x595.44 with 1 Axes>"
      ]
     },
     "metadata": {
      "needs_background": "light"
     },
     "output_type": "display_data"
    }
   ],
   "source": [
    "ax = data1_final['Rating'].plot.hist(density=True, xlim=[0,6], bins=range(1,6))\n",
    "data1_final['Rating'].plot.density(ax=ax)\n",
    "ax.set_xlabel('Rating')"
   ]
  },
  {
   "cell_type": "code",
   "execution_count": 34,
   "id": "ccf674a9",
   "metadata": {},
   "outputs": [
    {
     "data": {
      "text/plain": [
       "Varies with device    1637\n",
       "14M                    165\n",
       "12M                    161\n",
       "15M                    159\n",
       "11M                    159\n",
       "                      ... \n",
       "383k                     1\n",
       "454k                     1\n",
       "812k                     1\n",
       "442k                     1\n",
       "619k                     1\n",
       "Name: Size, Length: 413, dtype: int64"
      ]
     },
     "execution_count": 34,
     "metadata": {},
     "output_type": "execute_result"
    }
   ],
   "source": [
    "data1_final['Size'].value_counts(dropna = False)"
   ]
  },
  {
   "cell_type": "code",
   "execution_count": 35,
   "id": "609a3b74",
   "metadata": {},
   "outputs": [],
   "source": [
    "data1_final['Size_Rev'] = data1_final['Size'].apply(split_it)"
   ]
  },
  {
   "cell_type": "code",
   "execution_count": 36,
   "id": "a64ab376",
   "metadata": {},
   "outputs": [
    {
     "data": {
      "text/plain": [
       "       1637\n",
       "14      166\n",
       "12      161\n",
       "15      159\n",
       "11      159\n",
       "       ... \n",
       "454       1\n",
       "812       1\n",
       "442       1\n",
       "842       1\n",
       "619       1\n",
       "Name: Size_Rev, Length: 378, dtype: int64"
      ]
     },
     "execution_count": 36,
     "metadata": {},
     "output_type": "execute_result"
    }
   ],
   "source": [
    "data1_final['Size_Rev'].value_counts(dropna = False)"
   ]
  },
  {
   "cell_type": "code",
   "execution_count": 37,
   "id": "1d7cbf71",
   "metadata": {},
   "outputs": [],
   "source": [
    "data1_final['Size_Rev'] = pd.to_numeric(data1_final['Size_Rev'], errors='ignore')"
   ]
  },
  {
   "cell_type": "code",
   "execution_count": 38,
   "id": "55184aab",
   "metadata": {},
   "outputs": [
    {
     "data": {
      "text/plain": [
       "count    7723.00000\n",
       "mean       37.30707\n",
       "std        93.54223\n",
       "min         1.00000\n",
       "25%         6.10000\n",
       "50%        16.00000\n",
       "75%        37.00000\n",
       "max       994.00000\n",
       "Name: Size_Rev, dtype: float64"
      ]
     },
     "execution_count": 38,
     "metadata": {},
     "output_type": "execute_result"
    }
   ],
   "source": [
    "data1_final['Size_Rev'].describe()"
   ]
  },
  {
   "cell_type": "code",
   "execution_count": 39,
   "id": "d0078297",
   "metadata": {},
   "outputs": [
    {
     "data": {
      "text/plain": [
       "0"
      ]
     },
     "execution_count": 39,
     "metadata": {},
     "output_type": "execute_result"
    }
   ],
   "source": [
    "data1_final['Size'].isna().sum()"
   ]
  },
  {
   "cell_type": "code",
   "execution_count": 40,
   "id": "84230894",
   "metadata": {},
   "outputs": [
    {
     "data": {
      "text/plain": [
       "1,000,000+        1576\n",
       "10,000,000+       1252\n",
       "100,000+          1150\n",
       "10,000+           1009\n",
       "5,000,000+         752\n",
       "1,000+             712\n",
       "500,000+           537\n",
       "50,000+            466\n",
       "5,000+             431\n",
       "100,000,000+       409\n",
       "100+               309\n",
       "50,000,000+        289\n",
       "500+               201\n",
       "500,000,000+        72\n",
       "10+                 69\n",
       "1,000,000,000+      58\n",
       "50+                 56\n",
       "5+                   9\n",
       "1+                   3\n",
       "Name: Installs, dtype: int64"
      ]
     },
     "execution_count": 40,
     "metadata": {},
     "output_type": "execute_result"
    }
   ],
   "source": [
    "data1_final['Installs'].value_counts(dropna=False)"
   ]
  },
  {
   "cell_type": "code",
   "execution_count": 41,
   "id": "42b58ccb",
   "metadata": {},
   "outputs": [],
   "source": [
    "data1_final['Installs_Rev'] = data1_final['Installs'].apply(clean_it)"
   ]
  },
  {
   "cell_type": "code",
   "execution_count": 42,
   "id": "94f03f51",
   "metadata": {},
   "outputs": [
    {
     "data": {
      "text/plain": [
       "1000000       1576\n",
       "10000000      1252\n",
       "100000        1150\n",
       "10000         1009\n",
       "5000000        752\n",
       "1000           712\n",
       "500000         537\n",
       "50000          466\n",
       "5000           431\n",
       "100000000      409\n",
       "100            309\n",
       "50000000       289\n",
       "500            201\n",
       "500000000       72\n",
       "10              69\n",
       "1000000000      58\n",
       "50              56\n",
       "5                9\n",
       "1                3\n",
       "Name: Installs_Rev, dtype: int64"
      ]
     },
     "execution_count": 42,
     "metadata": {},
     "output_type": "execute_result"
    }
   ],
   "source": [
    "data1_final['Installs_Rev'].value_counts(dropna=False)"
   ]
  },
  {
   "cell_type": "code",
   "execution_count": 43,
   "id": "34fb52cd",
   "metadata": {},
   "outputs": [],
   "source": [
    "data1_final['Installs_Rev'] = data1_final['Installs_Rev'].astype(int)"
   ]
  },
  {
   "cell_type": "code",
   "execution_count": 44,
   "id": "a504d98c",
   "metadata": {},
   "outputs": [
    {
     "data": {
      "text/plain": [
       "count    9.360000e+03\n",
       "mean     1.790875e+07\n",
       "std      9.126637e+07\n",
       "min      1.000000e+00\n",
       "25%      1.000000e+04\n",
       "50%      5.000000e+05\n",
       "75%      5.000000e+06\n",
       "max      1.000000e+09\n",
       "Name: Installs_Rev, dtype: float64"
      ]
     },
     "execution_count": 44,
     "metadata": {},
     "output_type": "execute_result"
    }
   ],
   "source": [
    "data1_final['Installs_Rev'].describe()"
   ]
  },
  {
   "cell_type": "code",
   "execution_count": 45,
   "id": "76e678ee",
   "metadata": {},
   "outputs": [
    {
     "data": {
      "text/plain": [
       "Text(0.5, 1.0, 'Distribution of Installations')"
      ]
     },
     "execution_count": 45,
     "metadata": {},
     "output_type": "execute_result"
    },
    {
     "data": {
      "image/png": "[encoded data removed]",
      "text/plain": [
       "<Figure size 842.4x595.44 with 1 Axes>"
      ]
     },
     "metadata": {
      "needs_background": "light"
     },
     "output_type": "display_data"
    }
   ],
   "source": [
    "# rating distibution \n",
    "rcParams['figure.figsize'] = 11.7,8.27\n",
    "g = sns.kdeplot(data1_final.Installs_Rev, color=\"Red\", shade = True)\n",
    "g.set_xlabel(\"Installations\")\n",
    "g.set_ylabel(\"Frequency\")\n",
    "plt.title('Distribution of Installations',size = 20)"
   ]
  },
  {
   "cell_type": "code",
   "execution_count": 46,
   "id": "53453176",
   "metadata": {},
   "outputs": [
    {
     "data": {
      "text/plain": [
       "Text(0.5, 1.0, 'The number of categories')"
      ]
     },
     "execution_count": 46,
     "metadata": {},
     "output_type": "execute_result"
    },
    {
     "data": {
      "image/png": "[encoded data removed]",
      "text/plain": [
       "<Figure size 842.4x595.44 with 1 Axes>"
      ]
     },
     "metadata": {
      "needs_background": "light"
     },
     "output_type": "display_data"
    }
   ],
   "source": [
    "cat_num = data1_final[\"Category\"].value_counts()\n",
    "sns.barplot(x = cat_num, y = cat_num.index, data = data1_final)\n",
    "plt.title(\"The number of categories\", size=20)"
   ]
  },
  {
   "cell_type": "code",
   "execution_count": 47,
   "id": "fa3844d3",
   "metadata": {},
   "outputs": [
    {
     "data": {
      "text/plain": [
       "Text(0.5, 1.0, 'Category & Price')"
      ]
     },
     "execution_count": 47,
     "metadata": {},
     "output_type": "execute_result"
    },
    {
     "data": {
      "image/png": "[encoded data removed]",
      "text/plain": [
       "<Figure size 842.4x595.44 with 1 Axes>"
      ]
     },
     "metadata": {
      "needs_background": "light"
     },
     "output_type": "display_data"
    }
   ],
   "source": [
    "sns.scatterplot(data =  data1_final, y = \"Category\", x = \"Price\")\n",
    "plt.title(\"Category & Price\", size=20)"
   ]
  },
  {
   "cell_type": "markdown",
   "id": "e2e21105",
   "metadata": {},
   "source": [
    "# Heatmap for numerical columns"
   ]
  },
  {
   "cell_type": "code",
   "execution_count": 48,
   "id": "0b8e26eb",
   "metadata": {},
   "outputs": [
    {
     "data": {
      "text/plain": [
       "Text(0.5, 1.0, 'Heatmap for numerical columns')"
      ]
     },
     "execution_count": 48,
     "metadata": {},
     "output_type": "execute_result"
    },
    {
     "data": {
      "image/png": "[encoded data removed]",
      "text/plain": [
       "<Figure size 842.4x595.44 with 2 Axes>"
      ]
     },
     "metadata": {
      "needs_background": "light"
     },
     "output_type": "display_data"
    }
   ],
   "source": [
    "sns.heatmap(data1_final.corr(), annot = True, linewidths=.5, fmt=\".2f\")\n",
    "plt.title(\"Heatmap for numerical columns\", size=20)"
   ]
  },
  {
   "cell_type": "markdown",
   "id": "f9600938",
   "metadata": {},
   "source": [
    "# Histogram with the kde for the rating column"
   ]
  },
  {
   "cell_type": "code",
   "execution_count": 49,
   "id": "0819cc74",
   "metadata": {},
   "outputs": [
    {
     "data": {
      "text/plain": [
       "Text(0.5, 1.0, 'Histogram with the kde for the rating column ')"
      ]
     },
     "execution_count": 49,
     "metadata": {},
     "output_type": "execute_result"
    },
    {
     "data": {
      "image/png": "[encoded data removed]",
      "text/plain": [
       "<Figure size 842.4x595.44 with 1 Axes>"
      ]
     },
     "metadata": {
      "needs_background": "light"
     },
     "output_type": "display_data"
    }
   ],
   "source": [
    "sns.histplot(data1_final[\"Rating\"], kde = True)\n",
    "plt.title(\"Histogram with the kde for the rating column \", size=20,)"
   ]
  },
  {
   "cell_type": "code",
   "execution_count": 50,
   "id": "cdec9504",
   "metadata": {},
   "outputs": [
    {
     "data": {
      "text/plain": [
       "Free    8715\n",
       "Paid     645\n",
       "Name: Type, dtype: int64"
      ]
     },
     "execution_count": 50,
     "metadata": {},
     "output_type": "execute_result"
    }
   ],
   "source": [
    "data1_final['Type'].value_counts(dropna=False)"
   ]
  },
  {
   "cell_type": "code",
   "execution_count": 51,
   "id": "e53f78d5",
   "metadata": {},
   "outputs": [
    {
     "data": {
      "text/plain": [
       "count     9360\n",
       "unique      73\n",
       "top          0\n",
       "freq      8715\n",
       "Name: Price, dtype: object"
      ]
     },
     "execution_count": 51,
     "metadata": {},
     "output_type": "execute_result"
    }
   ],
   "source": [
    "data1_final['Price'].describe()"
   ]
  },
  {
   "cell_type": "code",
   "execution_count": 52,
   "id": "cd7de9f8",
   "metadata": {},
   "outputs": [],
   "source": [
    "data1_final['Price_Rev'] = data1_final['Price'].apply(clean_it)"
   ]
  },
  {
   "cell_type": "code",
   "execution_count": 53,
   "id": "591b4c08",
   "metadata": {},
   "outputs": [],
   "source": [
    "data1_final['Price_Rev'] = data1_final['Price_Rev'].astype(int)"
   ]
  },
  {
   "cell_type": "code",
   "execution_count": 54,
   "id": "f4fa61f2",
   "metadata": {},
   "outputs": [
    {
     "data": {
      "text/plain": [
       "count     9360.000000\n",
       "mean        96.127885\n",
       "std       1582.164025\n",
       "min          0.000000\n",
       "25%          0.000000\n",
       "50%          0.000000\n",
       "75%          0.000000\n",
       "max      40000.000000\n",
       "Name: Price_Rev, dtype: float64"
      ]
     },
     "execution_count": 54,
     "metadata": {},
     "output_type": "execute_result"
    }
   ],
   "source": [
    "data1_final['Price_Rev'].describe()"
   ]
  },
  {
   "cell_type": "code",
   "execution_count": 55,
   "id": "3468c6fd",
   "metadata": {},
   "outputs": [
    {
     "data": {
      "text/html": [
       "<div>\n",
       "<style scoped>\n",
       "    .dataframe tbody tr th:only-of-type {\n",
       "        vertical-align: middle;\n",
       "    }\n",
       "\n",
       "    .dataframe tbody tr th {\n",
       "        vertical-align: top;\n",
       "    }\n",
       "\n",
       "    .dataframe thead tr th {\n",
       "        text-align: left;\n",
       "    }\n",
       "\n",
       "    .dataframe thead tr:last-of-type th {\n",
       "        text-align: right;\n",
       "    }\n",
       "</style>\n",
       "<table border=\"1\" class=\"dataframe\">\n",
       "  <thead>\n",
       "    <tr>\n",
       "      <th></th>\n",
       "      <th colspan=\"2\" halign=\"left\">Price_Rev</th>\n",
       "    </tr>\n",
       "    <tr>\n",
       "      <th></th>\n",
       "      <th>sum</th>\n",
       "      <th>mean</th>\n",
       "    </tr>\n",
       "    <tr>\n",
       "      <th>Type</th>\n",
       "      <th></th>\n",
       "      <th></th>\n",
       "    </tr>\n",
       "  </thead>\n",
       "  <tbody>\n",
       "    <tr>\n",
       "      <th>Free</th>\n",
       "      <td>0</td>\n",
       "      <td>0.0</td>\n",
       "    </tr>\n",
       "    <tr>\n",
       "      <th>Paid</th>\n",
       "      <td>899757</td>\n",
       "      <td>1395.0</td>\n",
       "    </tr>\n",
       "  </tbody>\n",
       "</table>\n",
       "</div>"
      ],
      "text/plain": [
       "     Price_Rev        \n",
       "           sum    mean\n",
       "Type                  \n",
       "Free         0     0.0\n",
       "Paid    899757  1395.0"
      ]
     },
     "execution_count": 55,
     "metadata": {},
     "output_type": "execute_result"
    }
   ],
   "source": [
    "# Check if all the free apps have Price of ZERO\n",
    "data1_final.groupby(['Type']).agg({'Price_Rev': ['sum', 'mean']}).round(0)"
   ]
  },
  {
   "cell_type": "code",
   "execution_count": 56,
   "id": "534f01f3",
   "metadata": {},
   "outputs": [
    {
     "data": {
      "text/plain": [
       "Everyone           7414\n",
       "Teen               1084\n",
       "Mature 17+          461\n",
       "Everyone 10+        397\n",
       "Adults only 18+       3\n",
       "Unrated               1\n",
       "Name: Content Rating, dtype: int64"
      ]
     },
     "execution_count": 56,
     "metadata": {},
     "output_type": "execute_result"
    }
   ],
   "source": [
    "data1_final['Content Rating'].value_counts(dropna=False)"
   ]
  },
  {
   "cell_type": "code",
   "execution_count": 57,
   "id": "58202bcb",
   "metadata": {},
   "outputs": [],
   "source": [
    "conditions = [\n",
    "    (data1_final['Content Rating'] == \"Mature 17+\" ) | (data1_final['Content Rating'] == \"Adults only 18+\" ) | (data1_final['Content Rating'] == \"Unrated\" ),\n",
    "    \n",
    "    (data1_final['Content Rating'] == \"Everyone\" ) | (data1_final['Content Rating'] == \"Everyone 10+\" ) \n",
    "    \n",
    "    ]\n",
    "\n",
    "choices = ['Adults 18+','Everyone']\n",
    "data1_final['Content_Rating_final'] = np.select(conditions, choices, default= data1_final['Content Rating'])"
   ]
  },
  {
   "cell_type": "code",
   "execution_count": 58,
   "id": "f0dcdc92",
   "metadata": {},
   "outputs": [
    {
     "data": {
      "text/plain": [
       "Everyone      7811\n",
       "Teen          1084\n",
       "Adults 18+     465\n",
       "Name: Content_Rating_final, dtype: int64"
      ]
     },
     "execution_count": 58,
     "metadata": {},
     "output_type": "execute_result"
    }
   ],
   "source": [
    "data1_final['Content_Rating_final'].value_counts(dropna=False)"
   ]
  },
  {
   "cell_type": "code",
   "execution_count": 59,
   "id": "e7bf17af",
   "metadata": {},
   "outputs": [],
   "source": [
    "freq_encode(\"Content_Rating_final\")"
   ]
  },
  {
   "cell_type": "code",
   "execution_count": 60,
   "id": "a08d5901",
   "metadata": {},
   "outputs": [
    {
     "data": {
      "text/plain": [
       "7811    7811\n",
       "1084    1084\n",
       "465      465\n",
       "Name: Content_Rating_final, dtype: int64"
      ]
     },
     "execution_count": 60,
     "metadata": {},
     "output_type": "execute_result"
    }
   ],
   "source": [
    "data1_final['Content_Rating_final'].value_counts(dropna=False)"
   ]
  },
  {
   "cell_type": "code",
   "execution_count": 61,
   "id": "d770a65b",
   "metadata": {},
   "outputs": [
    {
     "data": {
      "text/plain": [
       "(115,)"
      ]
     },
     "execution_count": 61,
     "metadata": {},
     "output_type": "execute_result"
    }
   ],
   "source": [
    "data1_final['Genres'].unique().shape"
   ]
  },
  {
   "cell_type": "code",
   "execution_count": 62,
   "id": "5cc448a1",
   "metadata": {},
   "outputs": [
    {
     "data": {
      "text/plain": [
       "Tools               0.078205\n",
       "Entertainment       0.056944\n",
       "Education           0.050000\n",
       "Action              0.038248\n",
       "Productivity        0.037500\n",
       "Medical             0.037393\n",
       "Sports              0.035577\n",
       "Communication       0.035043\n",
       "Finance             0.034509\n",
       "Photography         0.033868\n",
       "Lifestyle           0.033440\n",
       "Personalization     0.033333\n",
       "Business            0.032372\n",
       "Health & Fitness    0.031731\n",
       "Social              0.027671\n",
       "Shopping            0.025427\n",
       "News & Magazines    0.024893\n",
       "Travel & Local      0.024038\n",
       "Arcade              0.022115\n",
       "Dating              0.020833\n",
       "Simulation          0.020726\n",
       "Name: Genres, dtype: float64"
      ]
     },
     "execution_count": 62,
     "metadata": {},
     "output_type": "execute_result"
    }
   ],
   "source": [
    "data1_final['Genres'].value_counts(normalize=True).loc[lambda x : x>0.02]"
   ]
  },
  {
   "cell_type": "code",
   "execution_count": 63,
   "id": "1ff3656d",
   "metadata": {},
   "outputs": [],
   "source": [
    "freq_encode(\"Genres\")"
   ]
  },
  {
   "cell_type": "code",
   "execution_count": 64,
   "id": "2a62d62f",
   "metadata": {},
   "outputs": [
    {
     "data": {
      "text/plain": [
       "732    0.078205\n",
       "533    0.056944\n",
       "468    0.050000\n",
       "358    0.038248\n",
       "351    0.037500\n",
       "350    0.037393\n",
       "333    0.035577\n",
       "328    0.035043\n",
       "323    0.034509\n",
       "317    0.033868\n",
       "313    0.033440\n",
       "312    0.033333\n",
       "303    0.032372\n",
       "297    0.031731\n",
       "259    0.027671\n",
       "238    0.025427\n",
       "233    0.024893\n",
       "225    0.024038\n",
       "207    0.022115\n",
       "195    0.020833\n",
       "194    0.020726\n",
       "Name: Genres, dtype: float64"
      ]
     },
     "execution_count": 64,
     "metadata": {},
     "output_type": "execute_result"
    }
   ],
   "source": [
    "data1_final['Genres'].value_counts(normalize=True).loc[lambda x : x>0.02]"
   ]
  },
  {
   "cell_type": "markdown",
   "id": "f86f2f2c",
   "metadata": {},
   "source": [
    "# We have focused on all the individual features, their distributions and cleaned up each one of those .. The final features that we will be using in the model are 'Rating','Category','Size_Rev','Reviews','Android_ver_final','Installs_Rev','Price_Rev','Content_Rating_final','Genres'"
   ]
  },
  {
   "cell_type": "code",
   "execution_count": 65,
   "id": "963d2a39",
   "metadata": {},
   "outputs": [],
   "source": [
    "cols = ['Rating','Category','Size_Rev','Reviews','Android_ver_final','Installs_Rev','Price_Rev','Content_Rating_final','Genres']"
   ]
  },
  {
   "cell_type": "code",
   "execution_count": 66,
   "id": "ab3f7eca",
   "metadata": {},
   "outputs": [],
   "source": [
    "data_for_model = data1_final[cols]"
   ]
  },
  {
   "cell_type": "code",
   "execution_count": 67,
   "id": "004dc6b1",
   "metadata": {},
   "outputs": [],
   "source": [
    "data_for_model = data_for_model.dropna()"
   ]
  },
  {
   "cell_type": "markdown",
   "id": "6c158d60",
   "metadata": {},
   "source": [
    "# The problem can be set as a regression or classification problem. We use y as continuous variable for regression. We will use y1 as discrete variable and use it for classification setting"
   ]
  },
  {
   "cell_type": "code",
   "execution_count": 68,
   "id": "6c546a6b",
   "metadata": {},
   "outputs": [],
   "source": [
    "IVs = ['Category','Size_Rev','Reviews','Android_ver_final','Installs_Rev','Price_Rev','Content_Rating_final','Genres']\n",
    "X = data_for_model[IVs]\n",
    "y=data_for_model['Rating']"
   ]
  },
  {
   "cell_type": "code",
   "execution_count": 69,
   "id": "a6eeb7cb",
   "metadata": {},
   "outputs": [],
   "source": [
    "y1 = y.astype(int)"
   ]
  },
  {
   "cell_type": "code",
   "execution_count": 70,
   "id": "75ca5c14",
   "metadata": {},
   "outputs": [
    {
     "data": {
      "text/plain": [
       "count    7667.000000\n",
       "mean        3.757924\n",
       "std         0.595301\n",
       "min         1.000000\n",
       "25%         4.000000\n",
       "50%         4.000000\n",
       "75%         4.000000\n",
       "max         5.000000\n",
       "Name: Rating, dtype: float64"
      ]
     },
     "execution_count": 70,
     "metadata": {},
     "output_type": "execute_result"
    }
   ],
   "source": [
    "y1.describe()"
   ]
  },
  {
   "cell_type": "code",
   "execution_count": 71,
   "id": "4a813ad5",
   "metadata": {},
   "outputs": [
    {
     "data": {
      "text/html": [
       "<div>\n",
       "<style scoped>\n",
       "    .dataframe tbody tr th:only-of-type {\n",
       "        vertical-align: middle;\n",
       "    }\n",
       "\n",
       "    .dataframe tbody tr th {\n",
       "        vertical-align: top;\n",
       "    }\n",
       "\n",
       "    .dataframe thead th {\n",
       "        text-align: right;\n",
       "    }\n",
       "</style>\n",
       "<table border=\"1\" class=\"dataframe\">\n",
       "  <thead>\n",
       "    <tr style=\"text-align: right;\">\n",
       "      <th></th>\n",
       "      <th>Rating</th>\n",
       "      <th>Category</th>\n",
       "      <th>Size_Rev</th>\n",
       "      <th>Reviews</th>\n",
       "      <th>Installs_Rev</th>\n",
       "      <th>Price_Rev</th>\n",
       "      <th>Content_Rating_final</th>\n",
       "      <th>Genres</th>\n",
       "    </tr>\n",
       "  </thead>\n",
       "  <tbody>\n",
       "    <tr>\n",
       "      <th>Rating</th>\n",
       "      <td>1.000000</td>\n",
       "      <td>0.025097</td>\n",
       "      <td>-0.018726</td>\n",
       "      <td>0.079646</td>\n",
       "      <td>0.052157</td>\n",
       "      <td>-0.021285</td>\n",
       "      <td>-0.010007</td>\n",
       "      <td>-0.081369</td>\n",
       "    </tr>\n",
       "    <tr>\n",
       "      <th>Category</th>\n",
       "      <td>0.025097</td>\n",
       "      <td>1.000000</td>\n",
       "      <td>0.026011</td>\n",
       "      <td>0.068382</td>\n",
       "      <td>0.037028</td>\n",
       "      <td>0.000662</td>\n",
       "      <td>-0.055887</td>\n",
       "      <td>0.024890</td>\n",
       "    </tr>\n",
       "    <tr>\n",
       "      <th>Size_Rev</th>\n",
       "      <td>-0.018726</td>\n",
       "      <td>0.026011</td>\n",
       "      <td>1.000000</td>\n",
       "      <td>0.036432</td>\n",
       "      <td>0.016054</td>\n",
       "      <td>0.018425</td>\n",
       "      <td>0.014853</td>\n",
       "      <td>0.001618</td>\n",
       "    </tr>\n",
       "    <tr>\n",
       "      <th>Reviews</th>\n",
       "      <td>0.079646</td>\n",
       "      <td>0.068382</td>\n",
       "      <td>0.036432</td>\n",
       "      <td>1.000000</td>\n",
       "      <td>0.635529</td>\n",
       "      <td>-0.010160</td>\n",
       "      <td>-0.002144</td>\n",
       "      <td>-0.044578</td>\n",
       "    </tr>\n",
       "    <tr>\n",
       "      <th>Installs_Rev</th>\n",
       "      <td>0.052157</td>\n",
       "      <td>0.037028</td>\n",
       "      <td>0.016054</td>\n",
       "      <td>0.635529</td>\n",
       "      <td>1.000000</td>\n",
       "      <td>-0.010758</td>\n",
       "      <td>-0.021288</td>\n",
       "      <td>-0.025525</td>\n",
       "    </tr>\n",
       "    <tr>\n",
       "      <th>Price_Rev</th>\n",
       "      <td>-0.021285</td>\n",
       "      <td>0.000662</td>\n",
       "      <td>0.018425</td>\n",
       "      <td>-0.010160</td>\n",
       "      <td>-0.010758</td>\n",
       "      <td>1.000000</td>\n",
       "      <td>0.013866</td>\n",
       "      <td>0.018921</td>\n",
       "    </tr>\n",
       "    <tr>\n",
       "      <th>Content_Rating_final</th>\n",
       "      <td>-0.010007</td>\n",
       "      <td>-0.055887</td>\n",
       "      <td>0.014853</td>\n",
       "      <td>-0.002144</td>\n",
       "      <td>-0.021288</td>\n",
       "      <td>0.013866</td>\n",
       "      <td>1.000000</td>\n",
       "      <td>0.079634</td>\n",
       "    </tr>\n",
       "    <tr>\n",
       "      <th>Genres</th>\n",
       "      <td>-0.081369</td>\n",
       "      <td>0.024890</td>\n",
       "      <td>0.001618</td>\n",
       "      <td>-0.044578</td>\n",
       "      <td>-0.025525</td>\n",
       "      <td>0.018921</td>\n",
       "      <td>0.079634</td>\n",
       "      <td>1.000000</td>\n",
       "    </tr>\n",
       "  </tbody>\n",
       "</table>\n",
       "</div>"
      ],
      "text/plain": [
       "                        Rating  Category  Size_Rev   Reviews  Installs_Rev  \\\n",
       "Rating                1.000000  0.025097 -0.018726  0.079646      0.052157   \n",
       "Category              0.025097  1.000000  0.026011  0.068382      0.037028   \n",
       "Size_Rev             -0.018726  0.026011  1.000000  0.036432      0.016054   \n",
       "Reviews               0.079646  0.068382  0.036432  1.000000      0.635529   \n",
       "Installs_Rev          0.052157  0.037028  0.016054  0.635529      1.000000   \n",
       "Price_Rev            -0.021285  0.000662  0.018425 -0.010160     -0.010758   \n",
       "Content_Rating_final -0.010007 -0.055887  0.014853 -0.002144     -0.021288   \n",
       "Genres               -0.081369  0.024890  0.001618 -0.044578     -0.025525   \n",
       "\n",
       "                      Price_Rev  Content_Rating_final    Genres  \n",
       "Rating                -0.021285             -0.010007 -0.081369  \n",
       "Category               0.000662             -0.055887  0.024890  \n",
       "Size_Rev               0.018425              0.014853  0.001618  \n",
       "Reviews               -0.010160             -0.002144 -0.044578  \n",
       "Installs_Rev          -0.010758             -0.021288 -0.025525  \n",
       "Price_Rev              1.000000              0.013866  0.018921  \n",
       "Content_Rating_final   0.013866              1.000000  0.079634  \n",
       "Genres                 0.018921              0.079634  1.000000  "
      ]
     },
     "execution_count": 71,
     "metadata": {},
     "output_type": "execute_result"
    }
   ],
   "source": [
    "data_for_model.corr()"
   ]
  },
  {
   "cell_type": "code",
   "execution_count": 72,
   "id": "a79ca612",
   "metadata": {},
   "outputs": [
    {
     "data": {
      "text/html": [
       "<div>\n",
       "<style scoped>\n",
       "    .dataframe tbody tr th:only-of-type {\n",
       "        vertical-align: middle;\n",
       "    }\n",
       "\n",
       "    .dataframe tbody tr th {\n",
       "        vertical-align: top;\n",
       "    }\n",
       "\n",
       "    .dataframe thead th {\n",
       "        text-align: right;\n",
       "    }\n",
       "</style>\n",
       "<table border=\"1\" class=\"dataframe\">\n",
       "  <thead>\n",
       "    <tr style=\"text-align: right;\">\n",
       "      <th></th>\n",
       "      <th>Category</th>\n",
       "      <th>Size_Rev</th>\n",
       "      <th>Reviews</th>\n",
       "      <th>Installs_Rev</th>\n",
       "      <th>Price_Rev</th>\n",
       "      <th>Content_Rating_final</th>\n",
       "      <th>Genres</th>\n",
       "    </tr>\n",
       "  </thead>\n",
       "  <tbody>\n",
       "    <tr>\n",
       "      <th>count</th>\n",
       "      <td>7667.000000</td>\n",
       "      <td>7667.000000</td>\n",
       "      <td>7.667000e+03</td>\n",
       "      <td>7.667000e+03</td>\n",
       "      <td>7667.000000</td>\n",
       "      <td>7667.000000</td>\n",
       "      <td>7667.000000</td>\n",
       "    </tr>\n",
       "    <tr>\n",
       "      <th>mean</th>\n",
       "      <td>712.964523</td>\n",
       "      <td>37.423308</td>\n",
       "      <td>2.944881e+05</td>\n",
       "      <td>8.198583e+06</td>\n",
       "      <td>113.458589</td>\n",
       "      <td>6704.562149</td>\n",
       "      <td>297.154689</td>\n",
       "    </tr>\n",
       "    <tr>\n",
       "      <th>std</th>\n",
       "      <td>608.343640</td>\n",
       "      <td>93.858942</td>\n",
       "      <td>1.869616e+06</td>\n",
       "      <td>4.934048e+07</td>\n",
       "      <td>1747.072032</td>\n",
       "      <td>2537.534941</td>\n",
       "      <td>186.740047</td>\n",
       "    </tr>\n",
       "    <tr>\n",
       "      <th>min</th>\n",
       "      <td>42.000000</td>\n",
       "      <td>1.000000</td>\n",
       "      <td>1.000000e+00</td>\n",
       "      <td>1.000000e+00</td>\n",
       "      <td>0.000000</td>\n",
       "      <td>465.000000</td>\n",
       "      <td>1.000000</td>\n",
       "    </tr>\n",
       "    <tr>\n",
       "      <th>25%</th>\n",
       "      <td>259.000000</td>\n",
       "      <td>6.100000</td>\n",
       "      <td>1.060000e+02</td>\n",
       "      <td>1.000000e+04</td>\n",
       "      <td>0.000000</td>\n",
       "      <td>7811.000000</td>\n",
       "      <td>178.000000</td>\n",
       "    </tr>\n",
       "    <tr>\n",
       "      <th>50%</th>\n",
       "      <td>328.000000</td>\n",
       "      <td>16.000000</td>\n",
       "      <td>2.250000e+03</td>\n",
       "      <td>1.000000e+05</td>\n",
       "      <td>0.000000</td>\n",
       "      <td>7811.000000</td>\n",
       "      <td>312.000000</td>\n",
       "    </tr>\n",
       "    <tr>\n",
       "      <th>75%</th>\n",
       "      <td>1097.000000</td>\n",
       "      <td>37.000000</td>\n",
       "      <td>3.832000e+04</td>\n",
       "      <td>1.000000e+06</td>\n",
       "      <td>0.000000</td>\n",
       "      <td>7811.000000</td>\n",
       "      <td>351.000000</td>\n",
       "    </tr>\n",
       "    <tr>\n",
       "      <th>max</th>\n",
       "      <td>1746.000000</td>\n",
       "      <td>994.000000</td>\n",
       "      <td>4.489389e+07</td>\n",
       "      <td>1.000000e+09</td>\n",
       "      <td>40000.000000</td>\n",
       "      <td>7811.000000</td>\n",
       "      <td>732.000000</td>\n",
       "    </tr>\n",
       "  </tbody>\n",
       "</table>\n",
       "</div>"
      ],
      "text/plain": [
       "          Category     Size_Rev       Reviews  Installs_Rev     Price_Rev  \\\n",
       "count  7667.000000  7667.000000  7.667000e+03  7.667000e+03   7667.000000   \n",
       "mean    712.964523    37.423308  2.944881e+05  8.198583e+06    113.458589   \n",
       "std     608.343640    93.858942  1.869616e+06  4.934048e+07   1747.072032   \n",
       "min      42.000000     1.000000  1.000000e+00  1.000000e+00      0.000000   \n",
       "25%     259.000000     6.100000  1.060000e+02  1.000000e+04      0.000000   \n",
       "50%     328.000000    16.000000  2.250000e+03  1.000000e+05      0.000000   \n",
       "75%    1097.000000    37.000000  3.832000e+04  1.000000e+06      0.000000   \n",
       "max    1746.000000   994.000000  4.489389e+07  1.000000e+09  40000.000000   \n",
       "\n",
       "       Content_Rating_final       Genres  \n",
       "count           7667.000000  7667.000000  \n",
       "mean            6704.562149   297.154689  \n",
       "std             2537.534941   186.740047  \n",
       "min              465.000000     1.000000  \n",
       "25%             7811.000000   178.000000  \n",
       "50%             7811.000000   312.000000  \n",
       "75%             7811.000000   351.000000  \n",
       "max             7811.000000   732.000000  "
      ]
     },
     "execution_count": 72,
     "metadata": {},
     "output_type": "execute_result"
    }
   ],
   "source": [
    "X.describe()"
   ]
  },
  {
   "cell_type": "code",
   "execution_count": null,
   "id": "eae90650",
   "metadata": {},
   "outputs": [],
   "source": []
  },
  {
   "cell_type": "code",
   "execution_count": null,
   "id": "6f359c85",
   "metadata": {},
   "outputs": [],
   "source": []
  },
  {
   "cell_type": "code",
   "execution_count": null,
   "id": "685c4b81",
   "metadata": {},
   "outputs": [],
   "source": []
  }
 ],
 "metadata": {
  "kernelspec": {
   "display_name": "Python 3 (ipykernel)",
   "language": "python",
   "name": "python3"
  },
  "language_info": {
   "codemirror_mode": {
    "name": "ipython",
    "version": 3
   },
   "file_extension": ".py",
   "mimetype": "text/x-python",
   "name": "python",
   "nbconvert_exporter": "python",
   "pygments_lexer": "ipython3",
   "version": "3.9.12"
  }
 },
 "nbformat": 4,
 "nbformat_minor": 5
}
